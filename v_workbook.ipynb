{
 "cells": [
  {
   "cell_type": "code",
   "execution_count": 1,
   "metadata": {},
   "outputs": [
    {
     "name": "stderr",
     "output_type": "stream",
     "text": [
      "/usr/local/anaconda3/lib/python3.9/site-packages/scipy/__init__.py:146: UserWarning: A NumPy version >=1.16.5 and <1.23.0 is required for this version of SciPy (detected version 1.23.0\n",
      "  warnings.warn(f\"A NumPy version >={np_minversion} and <{np_maxversion}\"\n"
     ]
    }
   ],
   "source": [
    "import pandas as pd\n",
    "import numpy as np\n",
    "import matplotlib.pyplot as plt\n",
    "import seaborn as sns"
   ]
  },
  {
   "cell_type": "code",
   "execution_count": 2,
   "metadata": {},
   "outputs": [],
   "source": [
    "df = pd.read_csv('Laptop_Information.csv', index_col=0)"
   ]
  },
  {
   "cell_type": "code",
   "execution_count": 3,
   "metadata": {},
   "outputs": [
    {
     "data": {
      "text/html": [
       "<div>\n",
       "<style scoped>\n",
       "    .dataframe tbody tr th:only-of-type {\n",
       "        vertical-align: middle;\n",
       "    }\n",
       "\n",
       "    .dataframe tbody tr th {\n",
       "        vertical-align: top;\n",
       "    }\n",
       "\n",
       "    .dataframe thead th {\n",
       "        text-align: right;\n",
       "    }\n",
       "</style>\n",
       "<table border=\"1\" class=\"dataframe\">\n",
       "  <thead>\n",
       "    <tr style=\"text-align: right;\">\n",
       "      <th></th>\n",
       "      <th>Company</th>\n",
       "      <th>Rating</th>\n",
       "      <th>No_of_ratings</th>\n",
       "      <th>Review</th>\n",
       "      <th>Size</th>\n",
       "      <th>Processor</th>\n",
       "      <th>RAM</th>\n",
       "      <th>Memory</th>\n",
       "      <th>OpSys</th>\n",
       "      <th>Price</th>\n",
       "      <th>MRP</th>\n",
       "      <th>ImgURL</th>\n",
       "    </tr>\n",
       "  </thead>\n",
       "  <tbody>\n",
       "    <tr>\n",
       "      <th>0</th>\n",
       "      <td>HP</td>\n",
       "      <td>4.200000</td>\n",
       "      <td>253</td>\n",
       "      <td>20</td>\n",
       "      <td>36.0</td>\n",
       "      <td>AMD Ryzen 5 Hexa Core Processor</td>\n",
       "      <td>16</td>\n",
       "      <td>512 GB SSD</td>\n",
       "      <td>64 bit Windows 11</td>\n",
       "      <td>49990</td>\n",
       "      <td>59240</td>\n",
       "      <td>https://rukminim1.flixcart.com/image/312/312/l...</td>\n",
       "    </tr>\n",
       "    <tr>\n",
       "      <th>1</th>\n",
       "      <td>Lenovo</td>\n",
       "      <td>4.200000</td>\n",
       "      <td>974</td>\n",
       "      <td>75</td>\n",
       "      <td>36.0</td>\n",
       "      <td>Intel Core i3 Processor (11th Gen)</td>\n",
       "      <td>8</td>\n",
       "      <td>256 GB SSD</td>\n",
       "      <td>64 bit Windows 11</td>\n",
       "      <td>33990</td>\n",
       "      <td>60890</td>\n",
       "      <td>https://rukminim1.flixcart.com/image/312/312/k...</td>\n",
       "    </tr>\n",
       "    <tr>\n",
       "      <th>2</th>\n",
       "      <td>ASUS</td>\n",
       "      <td>4.400000</td>\n",
       "      <td>5389</td>\n",
       "      <td>535</td>\n",
       "      <td>40.0</td>\n",
       "      <td>Intel Core i5 Processor (10th Gen)</td>\n",
       "      <td>8</td>\n",
       "      <td>512 GB SSD</td>\n",
       "      <td>Windows 11</td>\n",
       "      <td>49990</td>\n",
       "      <td>70990</td>\n",
       "      <td>https://rukminim1.flixcart.com/image/312/312/l...</td>\n",
       "    </tr>\n",
       "    <tr>\n",
       "      <th>3</th>\n",
       "      <td>DELL</td>\n",
       "      <td>4.100000</td>\n",
       "      <td>332</td>\n",
       "      <td>26</td>\n",
       "      <td>40.0</td>\n",
       "      <td>Processor: Intel i3-1115G4 (Base- 1.7 GHz &amp; Tu...</td>\n",
       "      <td>8</td>\n",
       "      <td>Display: 15.6\" FHD WVA AG Narrow Border</td>\n",
       "      <td>Graphics &amp; Keyboard: Integrated &amp; Standard Key...</td>\n",
       "      <td>37990</td>\n",
       "      <td>58489</td>\n",
       "      <td>https://rukminim1.flixcart.com/image/312/312/x...</td>\n",
       "    </tr>\n",
       "    <tr>\n",
       "      <th>4</th>\n",
       "      <td>ASUS</td>\n",
       "      <td>4.200000</td>\n",
       "      <td>487</td>\n",
       "      <td>53</td>\n",
       "      <td>40.0</td>\n",
       "      <td>Intel Core i3 Processor (11th Gen)</td>\n",
       "      <td>8</td>\n",
       "      <td>512 GB SSD</td>\n",
       "      <td>64 bit Windows 11</td>\n",
       "      <td>35990</td>\n",
       "      <td>50990</td>\n",
       "      <td>https://rukminim1.flixcart.com/image/312/312/x...</td>\n",
       "    </tr>\n",
       "    <tr>\n",
       "      <th>...</th>\n",
       "      <td>...</td>\n",
       "      <td>...</td>\n",
       "      <td>...</td>\n",
       "      <td>...</td>\n",
       "      <td>...</td>\n",
       "      <td>...</td>\n",
       "      <td>...</td>\n",
       "      <td>...</td>\n",
       "      <td>...</td>\n",
       "      <td>...</td>\n",
       "      <td>...</td>\n",
       "      <td>...</td>\n",
       "    </tr>\n",
       "    <tr>\n",
       "      <th>979</th>\n",
       "      <td>Lenovo</td>\n",
       "      <td>4.300000</td>\n",
       "      <td>252</td>\n",
       "      <td>29</td>\n",
       "      <td>40.0</td>\n",
       "      <td>Intel Core i5 Processor (11th Gen)</td>\n",
       "      <td>8</td>\n",
       "      <td>512 GB SSD</td>\n",
       "      <td>64 bit Windows 11</td>\n",
       "      <td>60990</td>\n",
       "      <td>93690</td>\n",
       "      <td>https://rukminim1.flixcart.com/image/312/312/k...</td>\n",
       "    </tr>\n",
       "    <tr>\n",
       "      <th>980</th>\n",
       "      <td>MSI</td>\n",
       "      <td>3.600000</td>\n",
       "      <td>73</td>\n",
       "      <td>15</td>\n",
       "      <td>40.0</td>\n",
       "      <td>Intel Core i5 Processor (12th Gen)</td>\n",
       "      <td>8</td>\n",
       "      <td>512 GB SSD</td>\n",
       "      <td>64 bit Windows 11</td>\n",
       "      <td>73490</td>\n",
       "      <td>89990</td>\n",
       "      <td>https://rukminim1.flixcart.com/image/312/312/x...</td>\n",
       "    </tr>\n",
       "    <tr>\n",
       "      <th>981</th>\n",
       "      <td>Lenovo</td>\n",
       "      <td>4.253597</td>\n",
       "      <td>2841</td>\n",
       "      <td>241</td>\n",
       "      <td>34.0</td>\n",
       "      <td>Intel Core i7 Processor (10th Gen)</td>\n",
       "      <td>16</td>\n",
       "      <td>512 GB SSD</td>\n",
       "      <td>64 bit Windows 10</td>\n",
       "      <td>174527</td>\n",
       "      <td>76890</td>\n",
       "      <td>https://rukminim1.flixcart.com/image/312/312/k...</td>\n",
       "    </tr>\n",
       "    <tr>\n",
       "      <th>982</th>\n",
       "      <td>Avita</td>\n",
       "      <td>4.100000</td>\n",
       "      <td>2581</td>\n",
       "      <td>494</td>\n",
       "      <td>36.0</td>\n",
       "      <td>AMD Ryzen 5 Quad Core Processor</td>\n",
       "      <td>8</td>\n",
       "      <td>512 GB SSD</td>\n",
       "      <td>64 bit Windows 10</td>\n",
       "      <td>36990</td>\n",
       "      <td>54490</td>\n",
       "      <td>https://rukminim1.flixcart.com/image/312/312/k...</td>\n",
       "    </tr>\n",
       "    <tr>\n",
       "      <th>983</th>\n",
       "      <td>Lenovo</td>\n",
       "      <td>4.200000</td>\n",
       "      <td>265</td>\n",
       "      <td>21</td>\n",
       "      <td>40.0</td>\n",
       "      <td>Intel Core i5 Processor (12th Gen)</td>\n",
       "      <td>8</td>\n",
       "      <td>512 GB SSD</td>\n",
       "      <td>64 bit Windows 11</td>\n",
       "      <td>54990</td>\n",
       "      <td>76890</td>\n",
       "      <td>https://rukminim1.flixcart.com/image/312/312/x...</td>\n",
       "    </tr>\n",
       "  </tbody>\n",
       "</table>\n",
       "<p>984 rows × 12 columns</p>\n",
       "</div>"
      ],
      "text/plain": [
       "    Company    Rating  No_of_ratings  Review  Size  \\\n",
       "0        HP  4.200000            253      20  36.0   \n",
       "1    Lenovo  4.200000            974      75  36.0   \n",
       "2      ASUS  4.400000           5389     535  40.0   \n",
       "3      DELL  4.100000            332      26  40.0   \n",
       "4      ASUS  4.200000            487      53  40.0   \n",
       "..      ...       ...            ...     ...   ...   \n",
       "979  Lenovo  4.300000            252      29  40.0   \n",
       "980     MSI  3.600000             73      15  40.0   \n",
       "981  Lenovo  4.253597           2841     241  34.0   \n",
       "982   Avita  4.100000           2581     494  36.0   \n",
       "983  Lenovo  4.200000            265      21  40.0   \n",
       "\n",
       "                                             Processor  RAM  \\\n",
       "0                      AMD Ryzen 5 Hexa Core Processor   16   \n",
       "1                   Intel Core i3 Processor (11th Gen)    8   \n",
       "2                   Intel Core i5 Processor (10th Gen)    8   \n",
       "3    Processor: Intel i3-1115G4 (Base- 1.7 GHz & Tu...    8   \n",
       "4                   Intel Core i3 Processor (11th Gen)    8   \n",
       "..                                                 ...  ...   \n",
       "979                 Intel Core i5 Processor (11th Gen)    8   \n",
       "980                 Intel Core i5 Processor (12th Gen)    8   \n",
       "981                 Intel Core i7 Processor (10th Gen)   16   \n",
       "982                    AMD Ryzen 5 Quad Core Processor    8   \n",
       "983                 Intel Core i5 Processor (12th Gen)    8   \n",
       "\n",
       "                                      Memory  \\\n",
       "0                                 512 GB SSD   \n",
       "1                                 256 GB SSD   \n",
       "2                                 512 GB SSD   \n",
       "3    Display: 15.6\" FHD WVA AG Narrow Border   \n",
       "4                                 512 GB SSD   \n",
       "..                                       ...   \n",
       "979                               512 GB SSD   \n",
       "980                               512 GB SSD   \n",
       "981                               512 GB SSD   \n",
       "982                               512 GB SSD   \n",
       "983                               512 GB SSD   \n",
       "\n",
       "                                                 OpSys   Price    MRP  \\\n",
       "0                                   64 bit Windows 11    49990  59240   \n",
       "1                                   64 bit Windows 11    33990  60890   \n",
       "2                                          Windows 11    49990  70990   \n",
       "3    Graphics & Keyboard: Integrated & Standard Key...   37990  58489   \n",
       "4                                   64 bit Windows 11    35990  50990   \n",
       "..                                                 ...     ...    ...   \n",
       "979                                 64 bit Windows 11    60990  93690   \n",
       "980                                 64 bit Windows 11    73490  89990   \n",
       "981                                 64 bit Windows 10   174527  76890   \n",
       "982                                 64 bit Windows 10    36990  54490   \n",
       "983                                 64 bit Windows 11    54990  76890   \n",
       "\n",
       "                                                ImgURL  \n",
       "0    https://rukminim1.flixcart.com/image/312/312/l...  \n",
       "1    https://rukminim1.flixcart.com/image/312/312/k...  \n",
       "2    https://rukminim1.flixcart.com/image/312/312/l...  \n",
       "3    https://rukminim1.flixcart.com/image/312/312/x...  \n",
       "4    https://rukminim1.flixcart.com/image/312/312/x...  \n",
       "..                                                 ...  \n",
       "979  https://rukminim1.flixcart.com/image/312/312/k...  \n",
       "980  https://rukminim1.flixcart.com/image/312/312/x...  \n",
       "981  https://rukminim1.flixcart.com/image/312/312/k...  \n",
       "982  https://rukminim1.flixcart.com/image/312/312/k...  \n",
       "983  https://rukminim1.flixcart.com/image/312/312/x...  \n",
       "\n",
       "[984 rows x 12 columns]"
      ]
     },
     "execution_count": 3,
     "metadata": {},
     "output_type": "execute_result"
    }
   ],
   "source": [
    "df"
   ]
  },
  {
   "cell_type": "code",
   "execution_count": 6,
   "metadata": {},
   "outputs": [
    {
     "data": {
      "text/plain": [
       "array(['HP', 'Lenovo', 'ASUS', 'DELL', 'RedmiBook', 'Infinix', 'acer',\n",
       "       'MSI', 'APPLE', 'SAMSUNG', 'Mi', 'GIGABYTE', 'realme', 'ALIENWARE',\n",
       "       'Primebook', 'Avita', 'Nokia', 'Vaio', 'LG'], dtype=object)"
      ]
     },
     "execution_count": 6,
     "metadata": {},
     "output_type": "execute_result"
    }
   ],
   "source": [
    "df.Company.unique()"
   ]
  },
  {
   "cell_type": "code",
   "execution_count": 9,
   "metadata": {},
   "outputs": [
    {
     "data": {
      "text/plain": [
       "0          HP\n",
       "1      Lenovo\n",
       "2        ASUS\n",
       "3        DELL\n",
       "4        ASUS\n",
       "        ...  \n",
       "979    Lenovo\n",
       "980       MSI\n",
       "981    Lenovo\n",
       "982     Avita\n",
       "983    Lenovo\n",
       "Name: Company, Length: 984, dtype: object"
      ]
     },
     "execution_count": 9,
     "metadata": {},
     "output_type": "execute_result"
    }
   ],
   "source": [
    "df[\"Company\"]"
   ]
  },
  {
   "cell_type": "code",
   "execution_count": 11,
   "metadata": {},
   "outputs": [
    {
     "data": {
      "text/plain": [
       "Index(['Company', 'Rating', 'No_of_ratings', 'Review', 'Size', 'Processor',\n",
       "       'RAM', 'Memory', 'OpSys', 'Price', 'MRP', 'ImgURL'],\n",
       "      dtype='object')"
      ]
     },
     "execution_count": 11,
     "metadata": {},
     "output_type": "execute_result"
    }
   ],
   "source": [
    "df.columns"
   ]
  },
  {
   "cell_type": "code",
   "execution_count": 12,
   "metadata": {},
   "outputs": [
    {
     "data": {
      "text/plain": [
       "array(['64 bit Windows 11 ', 'Windows 11 ',\n",
       "       'Graphics & Keyboard: Integrated & Standard Keyboard',\n",
       "       'Graphics & Keyboard: Integrated & Backlit Keyboard+Fingerprint Reader',\n",
       "       'Mac OS ', '64 bit Windows 10 ', 'DOS ',\n",
       "       'Display & Graphics: 15.6\" FHD WVA AG 120Hz 250 nits Narrow Border & NVIDIA GEFORCE RTX 3050 (4GB GDDR6)',\n",
       "       'Windows 10 ',\n",
       "       'Display: 14.0\" (35.56Cms) FHD+ WVA Truelife Touch Narrow Border 250 nits',\n",
       "       '32 bit Windows 11 ',\n",
       "       'Display: 15.6\" FHD WVA AG Narrow Border 120Hz 250 nits',\n",
       "       'Stylish & Portable Just 1.99 cm thin and 1.7 kg in weight. US MIL-STD 810H Military-grade durability',\n",
       "       'Display:14.0-inch FHD (1920 x 1080) Anti-glare LED Backlight Narrow Border WVA Display',\n",
       "       'Stylish Thin and Light Laptop without Optical Disk Drive',\n",
       "       'Display: 15.6\" HD AG Narrow Border', '16 GB DDR4 RAM',\n",
       "       '4-zone RGB keyboard with WASD and chassis lighting',\n",
       "       'Graphics & Keyboard: Integrated & Backlit Keyboard + Fingerprint Reader',\n",
       "       'Improved thermal design with copper pipes & vents',\n",
       "       '8 GB DDR4 RAM',\n",
       "       'Graphics: NVIDIA GEFORCE RTX 3050 (4GB GDDR6) TGP Up To 80W',\n",
       "       'Display:14.0\" FHD WVA AG Narrow Border 250 nits',\n",
       "       'Alienware Command Center',\n",
       "       'Graphics & Keyboard: NVIDIA GEFORCE RTX 3060 (6GB GDDR6) & Backlit Keyboard Orange',\n",
       "       'Chrome ',\n",
       "       'Alienware Cryo-tech thermal technology to keep the system cool and running at highest performance',\n",
       "       'Prime OS ', '16 GB LPDDR5 RAM',\n",
       "       'Graphics: NVIDIA� GEFORCE� RTX 3050 Ti (4GB GDDR6)',\n",
       "       'Software: Win 11 + Office H&S 2021',\n",
       "       'Dolby Plus Acer TrueHarmony Technology Offers Immersive Sound',\n",
       "       '64 bit Chrome ', 'Finger Print Sensor for Faster System Access',\n",
       "       'Rear-exiting Cooling Vents with Dual Cooling Fans to Push the Heat Away',\n",
       "       '8 GB DDR3 RAM',\n",
       "       'NVIDIA Geforce GTX 1060 for Desktop Level Performance',\n",
       "       'Intel Core i5 Processor (7th Gen)',\n",
       "       'NVIDIA Geforce GTX 1050 for Desktop Level Performance',\n",
       "       '64 bit Windows 8 '], dtype=object)"
      ]
     },
     "execution_count": 12,
     "metadata": {},
     "output_type": "execute_result"
    }
   ],
   "source": [
    "df[\"OpSys\"].unique()"
   ]
  },
  {
   "cell_type": "code",
   "execution_count": 13,
   "metadata": {},
   "outputs": [
    {
     "data": {
      "text/plain": [
       "40"
      ]
     },
     "execution_count": 13,
     "metadata": {},
     "output_type": "execute_result"
    }
   ],
   "source": [
    "df[\"OpSys\"].nunique()"
   ]
  },
  {
   "attachments": {},
   "cell_type": "markdown",
   "metadata": {},
   "source": [
    "<h1>Opsys not useful measure</h1>\n",
    "<p>\n",
    "    This is getting removed as the practical understanding of laptops is that they are either Windows or Apple and therefore not relevant for customer value index.\n",
    "    <br>\n",
    "    Rating and no_of rating are continuous data points to be math'd up later\n",
    "    <br>\n",
    "    \n",
    "</p>\n",
    "customer value index may be feature name"
   ]
  },
  {
   "cell_type": "code",
   "execution_count": 15,
   "metadata": {},
   "outputs": [
    {
     "ename": "AttributeError",
     "evalue": "module 'pandas' has no attribute 'range'",
     "output_type": "error",
     "traceback": [
      "\u001b[0;31m---------------------------------------------------------------------------\u001b[0m",
      "\u001b[0;31mAttributeError\u001b[0m                            Traceback (most recent call last)",
      "\u001b[0;32m/var/folders/cs/9mn89l_n6p3c9sq01q5f54kh0000gn/T/ipykernel_11398/2432926058.py\u001b[0m in \u001b[0;36m<module>\u001b[0;34m\u001b[0m\n\u001b[0;32m----> 1\u001b[0;31m \u001b[0mpd\u001b[0m\u001b[0;34m.\u001b[0m\u001b[0mrange\u001b[0m\u001b[0;34m(\u001b[0m\u001b[0mdf\u001b[0m\u001b[0;34m[\u001b[0m\u001b[0;34m'Rating'\u001b[0m\u001b[0;34m]\u001b[0m\u001b[0;34m)\u001b[0m\u001b[0;34m\u001b[0m\u001b[0;34m\u001b[0m\u001b[0m\n\u001b[0m",
      "\u001b[0;32m/usr/local/anaconda3/lib/python3.9/site-packages/pandas/__init__.py\u001b[0m in \u001b[0;36m__getattr__\u001b[0;34m(name)\u001b[0m\n\u001b[1;32m    242\u001b[0m         \u001b[0;32mreturn\u001b[0m \u001b[0m_SparseArray\u001b[0m\u001b[0;34m\u001b[0m\u001b[0;34m\u001b[0m\u001b[0m\n\u001b[1;32m    243\u001b[0m \u001b[0;34m\u001b[0m\u001b[0m\n\u001b[0;32m--> 244\u001b[0;31m     \u001b[0;32mraise\u001b[0m \u001b[0mAttributeError\u001b[0m\u001b[0;34m(\u001b[0m\u001b[0;34mf\"module 'pandas' has no attribute '{name}'\"\u001b[0m\u001b[0;34m)\u001b[0m\u001b[0;34m\u001b[0m\u001b[0;34m\u001b[0m\u001b[0m\n\u001b[0m\u001b[1;32m    245\u001b[0m \u001b[0;34m\u001b[0m\u001b[0m\n\u001b[1;32m    246\u001b[0m \u001b[0;34m\u001b[0m\u001b[0m\n",
      "\u001b[0;31mAttributeError\u001b[0m: module 'pandas' has no attribute 'range'"
     ]
    }
   ],
   "source": [
    "df['Rating']pd.range()"
   ]
  },
  {
   "attachments": {},
   "cell_type": "markdown",
   "metadata": {},
   "source": [
    "What is ratings? The base assumption is that it is a five start system."
   ]
  },
  {
   "cell_type": "code",
   "execution_count": null,
   "metadata": {},
   "outputs": [],
   "source": [
    "df[df[]]"
   ]
  },
  {
   "cell_type": "code",
   "execution_count": null,
   "metadata": {},
   "outputs": [],
   "source": []
  },
  {
   "cell_type": "code",
   "execution_count": null,
   "metadata": {},
   "outputs": [],
   "source": []
  }
 ],
 "metadata": {
  "kernelspec": {
   "display_name": "base",
   "language": "python",
   "name": "python3"
  },
  "language_info": {
   "codemirror_mode": {
    "name": "ipython",
    "version": 3
   },
   "file_extension": ".py",
   "mimetype": "text/x-python",
   "name": "python",
   "nbconvert_exporter": "python",
   "pygments_lexer": "ipython3",
   "version": "3.9.7"
  },
  "orig_nbformat": 4
 },
 "nbformat": 4,
 "nbformat_minor": 2
}
